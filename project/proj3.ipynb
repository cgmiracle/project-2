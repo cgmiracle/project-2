{
 "cells": [
  {
   "cell_type": "code",
   "execution_count": 1,
   "metadata": {},
   "outputs": [],
   "source": [
    "import pandas as pd\n",
    "import numpy as np\n",
    "import os\n",
    "import yahoo_fantasy_api "
   ]
  },
  {
   "cell_type": "code",
   "execution_count": 2,
   "metadata": {},
   "outputs": [],
   "source": [
    "#testing Fantasy API\n",
    "#Calling my leauge\n",
    "from yahoo_oauth import OAuth2\n",
    "import json\n",
    "\n",
    "creds = {'consumer_key': 'dj0yJmk9SjdOUENTbzBzS1ZrJmQ9WVdrOWJucHdSRkEzUXpNbWNHbzlNQT09JnM9Y29uc3VtZXJzZWNyZXQmc3Y9MCZ4PWY3', 'consumer_secret': '3c224d41807df118dd97cb5ab8603ae2a5f98f3c'}\n",
    "with open(*['json'], \"w\") as f:\n",
    "   f.write(json.dumps(creds))\n",
    "#oauth = OAuth2(None, None, from_file='oauth2.json')"
   ]
  },
  {
   "cell_type": "code",
   "execution_count": 3,
   "metadata": {
    "scrolled": true
   },
   "outputs": [
    {
     "name": "stderr",
     "output_type": "stream",
     "text": [
      "[2021-02-11 19:06:39,216 DEBUG] [yahoo_oauth.oauth.__init__] Checking \n",
      "C:\\Users\\Cody\\anaconda3\\lib\\site-packages\\yahoo_oauth\\utils.py:64: YAMLLoadWarning: calling yaml.load() without Loader=... is deprecated, as the default Loader is unsafe. Please read https://msg.pyyaml.org/load for full details.\n",
      "  yaml_data = yaml.load(fd)\n",
      "[2021-02-11 19:06:39,234 DEBUG] [yahoo_oauth.oauth.handler] AUTHORIZATION URL : https://api.login.yahoo.com/oauth2/request_auth?redirect_uri=oob&response_type=code&client_id=dj0yJmk9SjdOUENTbzBzS1ZrJmQ9WVdrOWJucHdSRkEzUXpNbWNHbzlNQT09JnM9Y29uc3VtZXJzZWNyZXQmc3Y9MCZ4PWY3\n"
     ]
    },
    {
     "name": "stdout",
     "output_type": "stream",
     "text": [
      "Enter verifier : 8vckr3p\n"
     ]
    }
   ],
   "source": [
    "oauth = OAuth2(None, None, from_file='json')"
   ]
  },
  {
   "cell_type": "code",
   "execution_count": 4,
   "metadata": {},
   "outputs": [
    {
     "data": {
      "text/plain": [
       "<yahoo_fantasy_api.league.League at 0x299d4da74c0>"
      ]
     },
     "execution_count": 4,
     "metadata": {},
     "output_type": "execute_result"
    }
   ],
   "source": [
    "sc = oauth\n",
    "league_id = \"402.l.118196\"\n",
    "\n",
    "yahoo_fantasy_api.league.League(sc,118196)"
   ]
  },
  {
   "cell_type": "code",
   "execution_count": 5,
   "metadata": {},
   "outputs": [],
   "source": [
    "yfl = yahoo_fantasy_api.league.League(sc,league_id)\n"
   ]
  },
  {
   "cell_type": "code",
   "execution_count": 6,
   "metadata": {},
   "outputs": [],
   "source": [
    "yfg = yahoo_fantasy_api.game.Game(sc, \"nba\")"
   ]
  },
  {
   "cell_type": "code",
   "execution_count": 7,
   "metadata": {},
   "outputs": [
    {
     "data": {
      "text/plain": [
       "['395.l.178246', '395.l.197473', '402.l.118196']"
      ]
     },
     "execution_count": 7,
     "metadata": {},
     "output_type": "execute_result"
    }
   ],
   "source": [
    "league_id = yfg.league_ids()\n",
    "league_id"
   ]
  },
  {
   "cell_type": "code",
   "execution_count": 8,
   "metadata": {},
   "outputs": [
    {
     "data": {
      "text/plain": [
       "'402.l.118196.t.8'"
      ]
     },
     "execution_count": 8,
     "metadata": {},
     "output_type": "execute_result"
    }
   ],
   "source": [
    "team_key = yfl.team_key()\n",
    "team_key"
   ]
  },
  {
   "cell_type": "code",
   "execution_count": 9,
   "metadata": {},
   "outputs": [],
   "source": [
    "yft = yahoo_fantasy_api.team.Team(sc, team_key)"
   ]
  },
  {
   "cell_type": "code",
   "execution_count": 10,
   "metadata": {},
   "outputs": [
    {
     "data": {
      "text/plain": [
       "[{'player_id': 6395,\n",
       "  'name': 'LaMelo Ball',\n",
       "  'position_type': 'P',\n",
       "  'FGA': 313.0,\n",
       "  'FGM': 137.0,\n",
       "  'FTA': 67.0,\n",
       "  'FTM': 53.0,\n",
       "  '3PTM': 46.0,\n",
       "  'PTS': 373.0,\n",
       "  'OREB': 38.0,\n",
       "  'DREB': 112.0,\n",
       "  'AST': 159.0,\n",
       "  'ST': 37.0,\n",
       "  'BLK': 9.0,\n",
       "  'TO': 66.0,\n",
       "  'PF': 65.0,\n",
       "  'DD': 4.0,\n",
       "  'TD': 1.0}]"
      ]
     },
     "execution_count": 10,
     "metadata": {},
     "output_type": "execute_result"
    }
   ],
   "source": [
    "player_stats = yfl.player_stats(6395, \"season\")\n",
    "\n",
    "player_stats"
   ]
  },
  {
   "cell_type": "code",
   "execution_count": 11,
   "metadata": {},
   "outputs": [
    {
     "data": {
      "text/plain": [
       "[]"
      ]
     },
     "execution_count": 11,
     "metadata": {},
     "output_type": "execute_result"
    }
   ],
   "source": [
    "yft.proposed_trades()"
   ]
  },
  {
   "cell_type": "code",
   "execution_count": 102,
   "metadata": {},
   "outputs": [],
   "source": [
    "yft.reject_trade(\"402.l.118196.pt.65\")"
   ]
  },
  {
   "cell_type": "code",
   "execution_count": 14,
   "metadata": {},
   "outputs": [
    {
     "data": {
      "text/plain": [
       "[{'transaction_key': '402.l.118196.tr.167',\n",
       "  'transaction_id': '167',\n",
       "  'type': 'trade',\n",
       "  'status': 'successful',\n",
       "  'timestamp': '1612078975',\n",
       "  'trader_team_key': '402.l.118196.t.12',\n",
       "  'trader_team_name': 'That White Guy',\n",
       "  'tradee_team_key': '402.l.118196.t.8',\n",
       "  'tradee_team_name': 'Big Boochie Boyz',\n",
       "  'players': {'0': {'player': [[{'player_key': '402.p.6019'},\n",
       "      {'player_id': '6019'},\n",
       "      {'name': {'full': 'Collin Sexton',\n",
       "        'first': 'Collin',\n",
       "        'last': 'Sexton',\n",
       "        'ascii_first': 'Collin',\n",
       "        'ascii_last': 'Sexton'}},\n",
       "      {'editorial_team_abbr': 'Cle'},\n",
       "      {'display_position': 'PG,SG'},\n",
       "      {'position_type': 'P'}],\n",
       "     {'transaction_data': [{'type': 'trade',\n",
       "        'source_type': 'team',\n",
       "        'source_team_key': '402.l.118196.t.12',\n",
       "        'source_team_name': 'That White Guy',\n",
       "        'destination_type': 'team',\n",
       "        'destination_team_key': '402.l.118196.t.8',\n",
       "        'destination_team_name': 'Big Boochie Boyz'}]}]},\n",
       "   '1': {'player': [[{'player_key': '402.p.5638'},\n",
       "      {'player_id': '5638'},\n",
       "      {'name': {'full': 'Jamal Murray',\n",
       "        'first': 'Jamal',\n",
       "        'last': 'Murray',\n",
       "        'ascii_first': 'Jamal',\n",
       "        'ascii_last': 'Murray'}},\n",
       "      {'editorial_team_abbr': 'Den'},\n",
       "      {'display_position': 'PG,SG'},\n",
       "      {'position_type': 'P'}],\n",
       "     {'transaction_data': [{'type': 'trade',\n",
       "        'source_type': 'team',\n",
       "        'source_team_key': '402.l.118196.t.12',\n",
       "        'source_team_name': 'That White Guy',\n",
       "        'destination_type': 'team',\n",
       "        'destination_team_key': '402.l.118196.t.8',\n",
       "        'destination_team_name': 'Big Boochie Boyz'}]}]},\n",
       "   '2': {'player': [[{'player_key': '402.p.4152'},\n",
       "      {'player_id': '4152'},\n",
       "      {'name': {'full': 'Kyle Lowry',\n",
       "        'first': 'Kyle',\n",
       "        'last': 'Lowry',\n",
       "        'ascii_first': 'Kyle',\n",
       "        'ascii_last': 'Lowry'}},\n",
       "      {'editorial_team_abbr': 'Tor'},\n",
       "      {'display_position': 'PG'},\n",
       "      {'position_type': 'P'}],\n",
       "     {'transaction_data': [{'type': 'trade',\n",
       "        'source_type': 'team',\n",
       "        'source_team_key': '402.l.118196.t.8',\n",
       "        'source_team_name': 'Big Boochie Boyz',\n",
       "        'destination_type': 'team',\n",
       "        'destination_team_key': '402.l.118196.t.12',\n",
       "        'destination_team_name': 'That White Guy'}]}]},\n",
       "   '3': {'player': [[{'player_key': '402.p.4245'},\n",
       "      {'player_id': '4245'},\n",
       "      {'name': {'full': 'Al Horford',\n",
       "        'first': 'Al',\n",
       "        'last': 'Horford',\n",
       "        'ascii_first': 'Al',\n",
       "        'ascii_last': 'Horford'}},\n",
       "      {'editorial_team_abbr': 'OKC'},\n",
       "      {'display_position': 'PF,C'},\n",
       "      {'position_type': 'P'}],\n",
       "     {'transaction_data': [{'type': 'trade',\n",
       "        'source_type': 'team',\n",
       "        'source_team_key': '402.l.118196.t.8',\n",
       "        'source_team_name': 'Big Boochie Boyz',\n",
       "        'destination_type': 'team',\n",
       "        'destination_team_key': '402.l.118196.t.12',\n",
       "        'destination_team_name': 'That White Guy'}]}]},\n",
       "   'count': 4}},\n",
       " {'transaction_key': '402.l.118196.tr.163',\n",
       "  'transaction_id': '163',\n",
       "  'type': 'trade',\n",
       "  'status': 'successful',\n",
       "  'timestamp': '1611958367',\n",
       "  'trader_team_key': '402.l.118196.t.3',\n",
       "  'trader_team_name': 'Newark Ditsoons',\n",
       "  'tradee_team_key': '402.l.118196.t.2',\n",
       "  'tradee_team_name': \"Kobe's Co-Pilots\",\n",
       "  'players': {'0': {'player': [[{'player_key': '402.p.4497'},\n",
       "      {'player_id': '4497'},\n",
       "      {'name': {'full': 'DeAndre Jordan',\n",
       "        'first': 'DeAndre',\n",
       "        'last': 'Jordan',\n",
       "        'ascii_first': 'DeAndre',\n",
       "        'ascii_last': 'Jordan'}},\n",
       "      {'editorial_team_abbr': 'Bkn'},\n",
       "      {'display_position': 'C'},\n",
       "      {'position_type': 'P'}],\n",
       "     {'transaction_data': [{'type': 'trade',\n",
       "        'source_type': 'team',\n",
       "        'source_team_key': '402.l.118196.t.3',\n",
       "        'source_team_name': 'Newark Ditsoons',\n",
       "        'destination_type': 'team',\n",
       "        'destination_team_key': '402.l.118196.t.2',\n",
       "        'destination_team_name': \"Kobe's Co-Pilots\"}]}]},\n",
       "   '1': {'player': [[{'player_key': '402.p.4487'},\n",
       "      {'player_id': '4487'},\n",
       "      {'name': {'full': 'Nicolas Batum',\n",
       "        'first': 'Nicolas',\n",
       "        'last': 'Batum',\n",
       "        'ascii_first': 'Nicolas',\n",
       "        'ascii_last': 'Batum'}},\n",
       "      {'editorial_team_abbr': 'LAC'},\n",
       "      {'display_position': 'SF,PF'},\n",
       "      {'position_type': 'P'}],\n",
       "     {'transaction_data': [{'type': 'trade',\n",
       "        'source_type': 'team',\n",
       "        'source_team_key': '402.l.118196.t.3',\n",
       "        'source_team_name': 'Newark Ditsoons',\n",
       "        'destination_type': 'team',\n",
       "        'destination_team_key': '402.l.118196.t.2',\n",
       "        'destination_team_name': \"Kobe's Co-Pilots\"}]}]},\n",
       "   '2': {'player': [[{'player_key': '402.p.5475'},\n",
       "      {'player_id': '5475'},\n",
       "      {'name': {'full': 'Kelly Oubre Jr.',\n",
       "        'first': 'Kelly',\n",
       "        'last': 'Oubre Jr.',\n",
       "        'ascii_first': 'Kelly',\n",
       "        'ascii_last': 'Oubre Jr.'}},\n",
       "      {'editorial_team_abbr': 'GS'},\n",
       "      {'display_position': 'SG,SF,PF'},\n",
       "      {'position_type': 'P'}],\n",
       "     {'transaction_data': [{'type': 'trade',\n",
       "        'source_type': 'team',\n",
       "        'source_team_key': '402.l.118196.t.2',\n",
       "        'source_team_name': \"Kobe's Co-Pilots\",\n",
       "        'destination_type': 'team',\n",
       "        'destination_team_key': '402.l.118196.t.3',\n",
       "        'destination_team_name': 'Newark Ditsoons'}]}]},\n",
       "   'count': 3}},\n",
       " {'transaction_key': '402.l.118196.tr.55',\n",
       "  'transaction_id': '55',\n",
       "  'type': 'trade',\n",
       "  'status': 'successful',\n",
       "  'timestamp': '1609804314',\n",
       "  'trader_team_key': '402.l.118196.t.10',\n",
       "  'trader_team_name': '8 ballers',\n",
       "  'tradee_team_key': '402.l.118196.t.1',\n",
       "  'tradee_team_name': '286ers',\n",
       "  'players': {'0': {'player': [[{'player_key': '402.p.5727'},\n",
       "      {'player_id': '5727'},\n",
       "      {'name': {'full': 'Fred VanVleet',\n",
       "        'first': 'Fred',\n",
       "        'last': 'VanVleet',\n",
       "        'ascii_first': 'Fred',\n",
       "        'ascii_last': 'VanVleet'}},\n",
       "      {'editorial_team_abbr': 'Tor'},\n",
       "      {'display_position': 'PG,SG'},\n",
       "      {'position_type': 'P'}],\n",
       "     {'transaction_data': [{'type': 'trade',\n",
       "        'source_type': 'team',\n",
       "        'source_team_key': '402.l.118196.t.10',\n",
       "        'source_team_name': '8 ballers',\n",
       "        'destination_type': 'team',\n",
       "        'destination_team_key': '402.l.118196.t.1',\n",
       "        'destination_team_name': '286ers'}]}]},\n",
       "   '1': {'player': [[{'player_key': '402.p.5658'},\n",
       "      {'player_id': '5658'},\n",
       "      {'name': {'full': 'Pascal Siakam',\n",
       "        'first': 'Pascal',\n",
       "        'last': 'Siakam',\n",
       "        'ascii_first': 'Pascal',\n",
       "        'ascii_last': 'Siakam'}},\n",
       "      {'editorial_team_abbr': 'Tor'},\n",
       "      {'display_position': 'PF,C'},\n",
       "      {'position_type': 'P'}],\n",
       "     {'transaction_data': [{'type': 'trade',\n",
       "        'source_type': 'team',\n",
       "        'source_team_key': '402.l.118196.t.10',\n",
       "        'source_team_name': '8 ballers',\n",
       "        'destination_type': 'team',\n",
       "        'destination_team_key': '402.l.118196.t.1',\n",
       "        'destination_team_name': '286ers'}]}]},\n",
       "   '2': {'player': [[{'player_key': '402.p.5245'},\n",
       "      {'player_id': '5245'},\n",
       "      {'name': {'full': 'Seth Curry',\n",
       "        'first': 'Seth',\n",
       "        'last': 'Curry',\n",
       "        'ascii_first': 'Seth',\n",
       "        'ascii_last': 'Curry'}},\n",
       "      {'editorial_team_abbr': 'Phi'},\n",
       "      {'display_position': 'PG,SG'},\n",
       "      {'position_type': 'P'}],\n",
       "     {'transaction_data': [{'type': 'trade',\n",
       "        'source_type': 'team',\n",
       "        'source_team_key': '402.l.118196.t.1',\n",
       "        'source_team_name': '286ers',\n",
       "        'destination_type': 'team',\n",
       "        'destination_team_key': '402.l.118196.t.10',\n",
       "        'destination_team_name': '8 ballers'}]}]},\n",
       "   '3': {'player': [[{'player_key': '402.p.5350'},\n",
       "      {'player_id': '5350'},\n",
       "      {'name': {'full': 'Jerami Grant',\n",
       "        'first': 'Jerami',\n",
       "        'last': 'Grant',\n",
       "        'ascii_first': 'Jerami',\n",
       "        'ascii_last': 'Grant'}},\n",
       "      {'editorial_team_abbr': 'Det'},\n",
       "      {'display_position': 'SF,PF'},\n",
       "      {'position_type': 'P'}],\n",
       "     {'transaction_data': [{'type': 'trade',\n",
       "        'source_type': 'team',\n",
       "        'source_team_key': '402.l.118196.t.1',\n",
       "        'source_team_name': '286ers',\n",
       "        'destination_type': 'team',\n",
       "        'destination_team_key': '402.l.118196.t.10',\n",
       "        'destination_team_name': '8 ballers'}]}]},\n",
       "   'count': 4}}]"
      ]
     },
     "execution_count": 14,
     "metadata": {},
     "output_type": "execute_result"
    }
   ],
   "source": [
    "yfl.transactions(\"trade\", 5)"
   ]
  }
 ],
 "metadata": {
  "kernelspec": {
   "display_name": "Python 3",
   "language": "python",
   "name": "python3"
  },
  "language_info": {
   "codemirror_mode": {
    "name": "ipython",
    "version": 3
   },
   "file_extension": ".py",
   "mimetype": "text/x-python",
   "name": "python",
   "nbconvert_exporter": "python",
   "pygments_lexer": "ipython3",
   "version": "3.8.5"
  }
 },
 "nbformat": 4,
 "nbformat_minor": 4
}
